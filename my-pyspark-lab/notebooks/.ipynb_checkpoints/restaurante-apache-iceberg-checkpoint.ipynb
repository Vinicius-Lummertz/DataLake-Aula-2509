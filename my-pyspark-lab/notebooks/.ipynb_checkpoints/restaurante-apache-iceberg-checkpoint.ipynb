{
 "cells": [
  {
   "cell_type": "code",
   "execution_count": null,
   "metadata": {},
   "outputs": [
    {
     "ename": "ModuleNotFoundError",
     "evalue": "No module named 'pyspark'",
     "output_type": "error",
     "traceback": [
      "\u001b[31m---------------------------------------------------------------------------\u001b[39m",
      "\u001b[31mModuleNotFoundError\u001b[39m                       Traceback (most recent call last)",
      "\u001b[36mCell\u001b[39m\u001b[36m \u001b[39m\u001b[32mIn[1]\u001b[39m\u001b[32m, line 1\u001b[39m\n\u001b[32m----> \u001b[39m\u001b[32m1\u001b[39m \u001b[38;5;28;01mfrom\u001b[39;00m\u001b[38;5;250m \u001b[39m\u001b[34;01mpyspark\u001b[39;00m\u001b[34;01m.\u001b[39;00m\u001b[34;01msql\u001b[39;00m\u001b[38;5;250m \u001b[39m\u001b[38;5;28;01mimport\u001b[39;00m SparkSession\n\u001b[32m      2\u001b[39m \u001b[38;5;28;01mimport\u001b[39;00m\u001b[38;5;250m \u001b[39m\u001b[34;01mos\u001b[39;00m\n\u001b[32m      4\u001b[39m spark = (\n\u001b[32m      5\u001b[39m     SparkSession.builder\n\u001b[32m      6\u001b[39m     .appName(\u001b[33m\"\u001b[39m\u001b[33mIcebergRestaurante\u001b[39m\u001b[33m\"\u001b[39m)\n\u001b[32m      7\u001b[39m     .enableHiveSupport()\n\u001b[32m      8\u001b[39m     .getOrCreate()\n\u001b[32m      9\u001b[39m )\n",
      "\u001b[31mModuleNotFoundError\u001b[39m: No module named 'pyspark'"
     ]
    }
   ],
   "source": [
    "from pyspark.sql import SparkSession\n",
    "import os\n",
    "\n",
    "spark = (\n",
    "    SparkSession.builder\n",
    "    .appName(\"IcebergRestaurante\")\n",
    "    .enableHiveSupport()\n",
    "    .getOrCreate()\n",
    ")\n",
    "\n",
    "spark.sql(\"CREATE DATABASE IF NOT EXISTS local_iceberg.restaurante\")\n",
    "spark.sql(\"DROP TABLE IF EXISTS local_iceberg.restaurante.pratos_iceberg\")\n",
    "\n",
    "spark.sql(\"\"\"\n",
    "  CREATE TABLE local_iceberg.restaurante.pratos_iceberg (\n",
    "    id INT,\n",
    "    nome_prato STRING,\n",
    "    categoria STRING,\n",
    "    ingredientes ARRAY<STRING>,\n",
    "    preco DECIMAL(10, 2),\n",
    "    disponivel BOOLEAN\n",
    "  ) USING iceberg\n",
    "\"\"\")\n",
    "\n",
    "spark.sql(\"\"\"\n",
    "  INSERT INTO local_iceberg.restaurante.pratos_iceberg VALUES\n",
    "  (10, 'Moqueca de Camarão', 'Frutos do Mar', ARRAY['Camarão', 'Leite de Coco', 'Azeite de Dendê', 'Pimentões'], 75.00, true),\n",
    "  (11, 'Pizza Margherita', 'Pizzas', ARRAY['Massa', 'Molho de Tomate', 'Muçarela', 'Manjericão'], 48.00, true),\n",
    "  (12, 'Hambúrguer Gourmet', 'Lanches', ARRAY['Pão Brioche', 'Carne Bovina', 'Queijo Cheddar', 'Bacon'], 42.00, true)\n",
    "\"\"\")\n",
    "\n",
    "spark.sql(\"SELECT * FROM local_iceberg.restaurante.pratos_iceberg ORDER BY id\").show(truncate=False)\n",
    "\n",
    "spark.sql(\"SELECT * FROM local_iceberg.restaurante.pratos_iceberg.history\").show()\n",
    "\n",
    "spark.sql(\"UPDATE local_iceberg.restaurante.pratos_iceberg SET disponivel = false WHERE id = 12\")\n",
    "spark.sql(\"SELECT * FROM local_iceberg.restaurante.pratos_iceberg ORDER BY id\").show(truncate=False)\n",
    "\n",
    "spark.sql(\"DELETE FROM local_iceberg.restaurante.pratos_iceberg WHERE id = 11\")\n",
    "spark.sql(\"SELECT * FROM local_iceberg.restaurante.pratos_iceberg ORDER BY id\").show(truncate=False)\n",
    "\n",
    "spark.sql(\"ALTER TABLE local_iceberg.restaurante.pratos_iceberg ADD COLUMN calorias INT\")\n",
    "\n",
    "spark.sql(\"UPDATE local_iceberg.restaurante.pratos_iceberg SET calorias = 850 WHERE id = 10\")\n",
    "\n",
    "spark.sql(\"SELECT * FROM local_iceberg.restaurante.pratos_iceberg ORDER BY id\").show(truncate=False)\n",
    "\n",
    "spark.sql(\"SELECT * FROM local_iceberg.restaurante.pratos_iceberg.history\").show(truncate=False)"
   ]
  }
 ],
 "metadata": {
  "kernelspec": {
   "display_name": "Python 3",
   "language": "python",
   "name": "python3"
  },
  "language_info": {
   "codemirror_mode": {
    "name": "ipython",
    "version": 3
   },
   "file_extension": ".py",
   "mimetype": "text/x-python",
   "name": "python",
   "nbconvert_exporter": "python",
   "pygments_lexer": "ipython3",
   "version": "3.13.1"
  }
 },
 "nbformat": 4,
 "nbformat_minor": 2
}
